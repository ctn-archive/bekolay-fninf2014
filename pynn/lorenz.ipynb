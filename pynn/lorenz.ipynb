{
 "metadata": {
  "name": ""
 },
 "nbformat": 3,
 "nbformat_minor": 0,
 "worksheets": [
  {
   "cells": [
    {
     "cell_type": "markdown",
     "metadata": {},
     "source": [
      "# Nengo Lorenz attractor model"
     ]
    },
    {
     "cell_type": "code",
     "collapsed": false,
     "input": [
      "import numpy as np\n",
      "\n",
      "# Set up parameters\n",
      "tau = 0.1\n",
      "sigma = 10\n",
      "beta = 8.0/3\n",
      "rho = 28"
     ],
     "language": "python",
     "metadata": {},
     "outputs": []
    },
    {
     "cell_type": "code",
     "collapsed": false,
     "input": [
      "import nengo\n",
      "model = nengo.Model('Lorenz attractor')\n",
      "state = nengo.Ensemble(nengo.LIF(2000), 3, radius=60, label='state')\n",
      "\n",
      "def feedback(x):\n",
      "    dx0 = -sigma * x[0] + sigma * x[1]\n",
      "    dx1 = -x[0] * x[2] - x[1]\n",
      "    dx2 = x[0] * x[1] - beta * (x[2] + rho) - rho\n",
      "    \n",
      "    return [dx0 * tau + x[0], \n",
      "            dx1 * tau + x[1], \n",
      "            dx2 * tau + x[2]]\n",
      "    \n",
      "st_conn = nengo.Connection(state, state, function=feedback, filter=tau)\n",
      "st_probe = nengo.Probe(state, 'decoded_output', filter=tau)\n",
      "\n",
      "# Again, we build but don't run in order to get a detailed model.\n",
      "sim = nengo.Simulator(model)"
     ],
     "language": "python",
     "metadata": {},
     "outputs": []
    },
    {
     "cell_type": "code",
     "collapsed": false,
     "input": [
      "# Get the details we need.\n",
      "state = next(o for o in sim.model.objs if o.label == 'state')\n",
      "enc = state.encoders\n",
      "dec = sim.model.connections[0].decoders"
     ],
     "language": "python",
     "metadata": {},
     "outputs": []
    },
    {
     "cell_type": "markdown",
     "metadata": {},
     "source": [
      "# PyNN Lorenz attractor model"
     ]
    },
    {
     "cell_type": "code",
     "collapsed": false,
     "input": [
      "import pyNN.brian as pyNN  # Brian gives decent results. Others are less decent, but we'll use them for benchmarking.\n",
      "#import pyNN.nest as pyNN\n",
      "#import pyNN.neuron as pyNN\n",
      "#import pyNN.pcsim as pyNN"
     ],
     "language": "python",
     "metadata": {},
     "outputs": []
    },
    {
     "cell_type": "code",
     "collapsed": false,
     "input": [
      "# Some parameters and functions for the simulation\n",
      "\n",
      "lif_params = {'tau_refrac': 2.0, 'tau_syn_E':100, 'tau_syn_I':100}\n",
      "\n",
      "# Note that this is in milliseconds. We should use 0.5 in order to plot the results,\n",
      "# but 1.0 for benchmarking in order to compare appropriately to Nengo.\n",
      "timestep = 0.5\n",
      "\n",
      "def get_spike_rates(pop, t):\n",
      "    counts = [val for key, val in sorted(pop.get_spike_counts().iteritems(), key=lambda (k,v):k)]\n",
      "    return np.asarray(counts) * 1000 / t\n",
      "\n",
      "def inject_bias(pop, nengo_pop):\n",
      "    pulses = [pyNN.DCSource(amplitude=val) for val in nengo_pop.neurons.bias_signal.value]\n",
      "    for i, pulse in enumerate(pulses):\n",
      "        pulse.inject_into(pop[i:i+1])\n",
      "\n",
      "def decode(ensemble, decoder, T, dt=0.5, tau=200):\n",
      "    data = np.zeros((int(T/dt)+1, decoder.shape[1]), dtype='float')\n",
      "    \n",
      "    for i in range(decoder.shape[0]):\n",
      "        spikes = ensemble[i:i+1].getSpikes()[:,1]\n",
      "        spikes = (spikes/dt).astype('int')\n",
      "        data[spikes] += decoder[i]\n",
      "        \n",
      "    if tau is not None and tau>dt:\n",
      "        decay = np.exp(-dt/tau)\n",
      "        data[0,:] *= (1-decay)\n",
      "        for i in range(1, data.shape[0]):\n",
      "            data[i,:] = decay*data[i-1,:] + (1-decay)*data[i,:]\n",
      "\n",
      "    return data"
     ],
     "language": "python",
     "metadata": {},
     "outputs": []
    },
    {
     "cell_type": "code",
     "collapsed": false,
     "input": [
      "# This implements the Lorenz attractor.\n",
      "\n",
      "pyNN.setup(timestep=timestep, min_delay=timestep)\n",
      "pynnState = pyNN.Population(state.n_neurons, pyNN.IF_cond_exp, lif_params)\n",
      "inject_bias(pynnState, state)\n",
      "\n",
      "weights = []\n",
      "for i in xrange(state.n_neurons):\n",
      "    for j in xrange(state.n_neurons):\n",
      "        weights.append((i, j, np.dot(dec[i], enc[j]) / 1400, 1.0))\n",
      "\n",
      "connection = pyNN.Projection(pynnState, pynnState, pyNN.FromListConnector(weights))\n",
      "pynnState.record('spikes')\n",
      "t = 1000.0\n",
      "pyNN.run(t)\n",
      "spikes = pynnState.getSpikes()"
     ],
     "language": "python",
     "metadata": {},
     "outputs": []
    },
    {
     "cell_type": "code",
     "collapsed": false,
     "input": [
      "# Plot the results\n",
      "\n",
      "import matplotlib.pyplot as plt\n",
      "from mpl_toolkits.mplot3d import Axes3D\n",
      "\n",
      "state_data = decode(pynnState, dec, T=t)\n",
      "\n",
      "fig = plt.figure(figsize=(8,12))\n",
      "ax = fig.add_subplot(211, projection='3d')\n",
      "ax.plot(state_data[:,0], state_data[:,1], state_data[:,2]) \n",
      "ax = fig.add_subplot(212)\n",
      "ax.plot(state_data);"
     ],
     "language": "python",
     "metadata": {},
     "outputs": []
    }
   ],
   "metadata": {}
  }
 ]
}