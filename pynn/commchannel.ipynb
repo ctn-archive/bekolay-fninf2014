{
 "metadata": {
  "name": ""
 },
 "nbformat": 3,
 "nbformat_minor": 0,
 "worksheets": [
  {
   "cells": [
    {
     "cell_type": "markdown",
     "metadata": {},
     "source": [
      "# Nengo communication channel model"
     ]
    },
    {
     "cell_type": "code",
     "collapsed": false,
     "input": [
      "import numpy as np\n",
      "import nengo\n",
      "m = nengo.Model(\"Comm Channel\")\n",
      "\n",
      "A = nengo.Ensemble(nengo.LIF(40), 1, label='A')\n",
      "B = nengo.Ensemble(nengo.LIF(50), 1, label='B')\n",
      "AB_conn = nengo.Connection(A, B)\n",
      "D = nengo.Ensemble(nengo.LIF(10), 1, label='D')\n",
      "BD_conn = nengo.Connection(B, D)\n",
      "\n",
      "inp = nengo.Node(output=0.5)\n",
      "nengo.Connection(inp, A)\n",
      "\n",
      "# We build the model but don't run it in order to use the built results in the PyNN scripts\n",
      "sim = nengo.Simulator(m)"
     ],
     "language": "python",
     "metadata": {},
     "outputs": []
    },
    {
     "cell_type": "code",
     "collapsed": false,
     "input": [
      "# Get the information that we need for the PyNN script\n",
      "A = next(o for o in sim.model.objs if o.label == 'A')\n",
      "B = next(o for o in sim.model.objs if o.label == 'B')\n",
      "AB_conn = next(o for o in sim.model.connections if o.pre == A)\n",
      "BD_conn = next(o for o in sim.model.connections if o.pre == B)\n",
      "encA = A.encoders\n",
      "encB = B.encoders\n",
      "decA = AB_conn.decoders\n",
      "decB = BD_conn.decoders"
     ],
     "language": "python",
     "metadata": {},
     "outputs": []
    },
    {
     "cell_type": "code",
     "collapsed": false,
     "input": [
      "# Tuning curves of A neurons (mostly for debugging)\n",
      "from nengo.helpers import tuning_curves\n",
      "import matplotlib.pyplot as plt\n",
      "eval_points, activities = tuning_curves(A)\n",
      "plt.plot(eval_points, activities);"
     ],
     "language": "python",
     "metadata": {},
     "outputs": []
    },
    {
     "cell_type": "markdown",
     "metadata": {},
     "source": [
      "# PyNN communication channel model"
     ]
    },
    {
     "cell_type": "code",
     "collapsed": false,
     "input": [
      "import pyNN.brian as pyNN\n",
      "#import pyNN.nest as pyNN\n",
      "#import pyNN.neuron as pyNN\n",
      "#import pyNN.pcsim as pyNN"
     ],
     "language": "python",
     "metadata": {},
     "outputs": []
    },
    {
     "cell_type": "code",
     "collapsed": false,
     "input": [
      "# Some parameters and functions for the simulation\n",
      "\n",
      "lif_params = {'tau_refrac': 2.0, 'tau_syn_E':100, 'tau_syn_I':100}\n",
      "X = np.linspace(-1, 1, 20)  # Points that we evaluate the communication channel\n",
      "\n",
      "# Note that this is in milliseconds. We should use 0.1 in order to plot the results,\n",
      "# but 1.0 for benchmarking in order to compare appropriately to Nengo.\n",
      "# With 1.0, PyNN script don't really work well because of how they do\n",
      "# refractory periods and other implementation details,\n",
      "# but as long as they work with lower timesteps\n",
      "# we can reasonably say that they do the same computation as the Nengo model.\n",
      "timestep = 0.1\n",
      "\n",
      "def get_spike_rates(pop, t):\n",
      "    counts = [val for key, val in sorted(pop.get_spike_counts().iteritems(), key=lambda (k,v):k)]\n",
      "    return np.asarray(counts) * 1000 / t\n",
      "\n",
      "def decode(pop, decoders, t):\n",
      "    return np.dot(get_spike_rates(pop, t), decoders) / 1000\n",
      "\n",
      "def inject_bias(pop, nengo_pop):\n",
      "    pulses = [pyNN.DCSource(amplitude=val) for val in nengo_pop.neurons.bias_signal.value]\n",
      "    for i, pulse in enumerate(pulses):\n",
      "        pulse.inject_into(pop[i:i+1])"
     ],
     "language": "python",
     "metadata": {},
     "outputs": []
    },
    {
     "cell_type": "code",
     "collapsed": false,
     "input": [
      "# This plots tuning curves of the neurons. They should match the tuning curves above.\n",
      "# This is mostly for debugging.\n",
      "\n",
      "res = []\n",
      "t = 200.0\n",
      "\n",
      "for x in X:\n",
      "    pyNN.setup(timestep=timestep, min_delay=timestep)\n",
      "    pynnA = pyNN.Population(A.n_neurons, pyNN.IF_cond_exp, lif_params)\n",
      "    pulses = [pyNN.DCSource(amplitude=val) for val in A.neurons.bias_signal.value + x * A.encoders.flatten()]\n",
      "    for i, pulse in enumerate(pulses):\n",
      "        pulse.inject_into(pynnA[i:i+1])\n",
      "    pynnA.record('spikes')\n",
      "    pyNN.run(t)\n",
      "    res.append(get_spike_rates(pynnA, t))\n",
      "\n",
      "plt.plot(X, res);"
     ],
     "language": "python",
     "metadata": {},
     "outputs": []
    },
    {
     "cell_type": "code",
     "collapsed": false,
     "input": [
      "# This does the actual communication channel.\n",
      "\n",
      "resA = []\n",
      "resB = []\n",
      "t = 200.0\n",
      "\n",
      "for x in X:\n",
      "    pyNN.setup(timestep=timestep, min_delay=timestep)\n",
      "    pynnA = pyNN.Population(A.n_neurons, pyNN.IF_cond_exp, lif_params)\n",
      "    pynnB = pyNN.Population(B.n_neurons, pyNN.IF_cond_exp, lif_params)\n",
      "    pulsesA = [pyNN.DCSource(amplitude=val) for val in A.neurons.bias_signal.value + x * A.encoders.flatten()]\n",
      "    for i, pulse in enumerate(pulsesA):\n",
      "        pulse.inject_into(pynnA[i:i+1])\n",
      "    inject_bias(pynnB, B)\n",
      "    \n",
      "    weights = []\n",
      "    for i in xrange(A.n_neurons):\n",
      "        for j in xrange(B.n_neurons):\n",
      "            # Scaling the weights is a hack,\n",
      "            # so it might give better results if tweaked.\n",
      "            # It may need tweaking for different PyNN backends as well.\n",
      "            weights.append((i, j, np.dot(decA[i], encB[j]) / 2500.0, 1.0))\n",
      "\n",
      "    connection = pyNN.Projection(pynnA, pynnB, pyNN.FromListConnector(weights))\n",
      "\n",
      "    pynnA.record('spikes')\n",
      "    pynnB.record('spikes')\n",
      "    pyNN.run(t)\n",
      "\n",
      "    resA.append(decode(pynnA, decA, t))\n",
      "    resB.append(decode(pynnB, decB, t))\n",
      "\n",
      "plt.plot(X, resA)\n",
      "plt.plot(X, resB);"
     ],
     "language": "python",
     "metadata": {},
     "outputs": []
    }
   ],
   "metadata": {}
  }
 ]
}